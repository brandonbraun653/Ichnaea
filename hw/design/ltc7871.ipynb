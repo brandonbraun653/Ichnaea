{
 "cells": [
  {
   "cell_type": "code",
   "execution_count": 1,
   "metadata": {},
   "outputs": [],
   "source": [
    "# This document details the circuit design decisions made for the LTC7871 buck converter. The goal here is to provide an easy\n",
    "# way to evaluate how component values will affect the overall behavior and performance, without having to restrict myself to\n",
    "# an excel sheet or a SPICE simulation. This is a living document and will be updated as I learn more about the LTC7871 and\n",
    "# develop the hardware.\n",
    "\n",
    "import math\n",
    "from enum import Enum"
   ]
  },
  {
   "cell_type": "code",
   "execution_count": null,
   "metadata": {},
   "outputs": [],
   "source": [
    "# *****************************************************************************\n",
    "# System Design Constraints\n",
    "#   Design solar cell is similar to HiS-S400YH(BK), 400W, 45.3V OC, 20% efficiency, 37.7V 10.61A MPP.\n",
    "#   Approximate configuration is 2SnP, where n:\n",
    "#       1: 10.61A, 800W (75.4v)\n",
    "#       2: 21.22A, 1600W\n",
    "#       3: 31.83A, 2400W\n",
    "#       4: 42.44A, 3200W\n",
    "#       5: 53.05A, 4000W\n",
    "#       6: 63.66A, 4800W\n",
    "#       7: 74.27A, 5600W\n",
    "#       8: 84.88A, 6400W\n",
    "#       9: 95.49A, 7200W\n",
    "#      10: 106.1A, 8000W\n",
    "#      11: 116.71A, 8800W\n",
    "#      12: 127.32A, 9600W\n",
    "#      13: 137.93A, 10400W\n",
    "# *****************************************************************************\n",
    "# Overall System Power\n",
    "MPPT_Pwr_Avg = 10000.0  # Average output power (watts)\n",
    "MPPT_Pwr_Max = 13500.0  # Maximum output power (watts)\n",
    "\n",
    "# Photovoltaic (PV) Panel Limits\n",
    "PV_V_In_Max = 90.0  # Maximum open circuit input voltage (volts)\n",
    "PV_V_In_Min = 18.0  # Minimum open circuit input voltage (volts)\n",
    "PV_I_In_Max = 150.0  # Maximum input current (amps)\n",
    "\n",
    "# Buck Converter Design (Single Unit)\n",
    "Pwr_max = 2500.0 # Maximum power output of the converter in watts.\n",
    "Eff_min = 0.75 # Estimated minimum efficiency of the converter under typical conditions.\n",
    "Eff_max = 0.97 # Estimated maximum efficiency of the converter under typical conditions.\n",
    "Vout_min = 12.0 # Minimum output voltage. Not enough to charge, but could power an inverter?\n",
    "Vout_max = 56.0 # High enough to charge a 48V battery bank.\n",
    "Vin_min = 24.0 # Photovoltaic input voltage required to charge a 12v battery bank with some headroom.\n",
    "Vin_max = 90.0 # Photovoltaic input voltage max of the LTC7871 with some headroom.\n",
    "Iout_max = Pwr_max / Vout_min # Maximum output current in amps.\n",
    "Iout_min = Pwr_max / Vout_max # Minimum output current in amps."
   ]
  },
  {
   "cell_type": "code",
   "execution_count": 54,
   "metadata": {},
   "outputs": [],
   "source": [
    "# *****************************************************************************\n",
    "# Operating Conditions to Evaluate\n",
    "# *****************************************************************************\n",
    "# TODO: Create a table of evaluation conditions and swap them in.\n",
    "\n",
    "# Configurable Fields\n",
    "\n",
    "# Number of parallel phase outputs in the design\n",
    "num_phases = 6\n",
    "\n",
    "# Output of the converter (V)\n",
    "VLow = 12.0\n",
    "\n",
    "# Input of the converter (V)\n",
    "VHigh = 75.4\n",
    "\n",
    "# Max output current (A)\n",
    "op_Iout_max = Pwr_max / VLow\n",
    "op_Iout_phase = op_Iout_max / num_phases\n",
    "\n",
    "# Allowed inductor ripple current percentage\n",
    "IRipplePct = 0.4\n",
    "\n",
    "# Desired max ripple current in the inductor (A)\n",
    "dIL = Iout_max * IRipplePct\n",
    "\n",
    "# Desired max ripple voltage on the output (V)\n",
    "dVLow_ref = 100e-3\n",
    "\n",
    "# Core switching frequency (Hz)\n",
    "Fosc = 650e3\n",
    "\n",
    "# DRVcc (Pin 46) Gate Driver Supply Voltage.\n",
    "# Must be either 5v, 8v, or 10v.\n",
    "DRVcc = 10.0\n",
    "\n",
    "# Known Limits\n",
    "assert 60e3 <= Fosc <= 750e3, \"Switching frequency must be between 60kHz and 750KHz\""
   ]
  },
  {
   "cell_type": "code",
   "execution_count": 55,
   "metadata": {},
   "outputs": [
    {
     "name": "stdout",
     "output_type": "stream",
     "text": [
      "Minimum On-Time: 150.00nS, Actual Min: 244.85nS\n"
     ]
    }
   ],
   "source": [
    "# *****************************************************************************\n",
    "# Minimum On-Time (pg 29)\n",
    "# *****************************************************************************\n",
    "ref_on_time = 150e-9 # (sec) Best case performance from datasheet\n",
    "act_on_time = VLow / (VHigh * Fosc)\n",
    "print(f\"Minimum On-Time: {ref_on_time * 1e9:.2f}nS, Actual Min: {act_on_time*1e9:.2f}nS\")\n",
    "assert ref_on_time < act_on_time"
   ]
  },
  {
   "cell_type": "code",
   "execution_count": 56,
   "metadata": {},
   "outputs": [
    {
     "name": "stdout",
     "output_type": "stream",
     "text": [
      "VSense Max: 0.10V\n",
      "Vdiv_R1: 22.00 kOhms\n",
      "Vdiv_R2: 1.00 kOhms\n"
     ]
    }
   ],
   "source": [
    "# *****************************************************************************\n",
    "# Current Limit Programming\n",
    "# *****************************************************************************\n",
    "class ILim(Enum):\n",
    "    \"\"\" Enumeration of the current limit programming options for the LTC7871 Table 5 \"\"\"\n",
    "    ILIM_0 = 0\n",
    "    ILIM_1_4 = 1\n",
    "    ILIM_FLOAT = 2\n",
    "    ILIM_3_4 = 3\n",
    "    ILIM_FULL = 4\n",
    "\n",
    "# Maximum voltage sense values for a DCR type current sense resistor.\n",
    "# Values are in volts.\n",
    "VSense_Max_DCR = {\n",
    "    ILim.ILIM_0: 0.1,\n",
    "    ILim.ILIM_1_4: 0.2,\n",
    "    ILim.ILIM_FLOAT: 0.3,\n",
    "    ILim.ILIM_3_4: 0.4,\n",
    "    ILim.ILIM_FULL: 0.5\n",
    "}\n",
    "\n",
    "VSense_VDiv_Resistors = {\n",
    "    ILim.ILIM_0: (22e3, 1e3),\n",
    "    ILim.ILIM_1_4: (10.2e3, 3.4e3),\n",
    "    ILim.ILIM_FLOAT: (10e3, 10e3),\n",
    "    ILim.ILIM_3_4: (3.4e3, 10.2e3),\n",
    "    ILim.ILIM_FULL: (1e3, 22e3)\n",
    "\n",
    "}\n",
    "\n",
    "# Selection for the current limit programming.\n",
    "ILim_Select = ILim.ILIM_0\n",
    "VSense_Max = VSense_Max_DCR[ILim_Select]\n",
    "\n",
    "# ILIM resistor values\n",
    "R1, R2 = VSense_VDiv_Resistors[ILim_Select]\n",
    "print(f\"VSense Max: {VSense_Max:.2f}V\")\n",
    "print(f\"Vdiv_R1: {R1 / 1e3:.2f} kOhms\")\n",
    "print(f\"Vdiv_R2: {R2 / 1e3:.2f} kOhms\")"
   ]
  },
  {
   "cell_type": "code",
   "execution_count": 57,
   "metadata": {},
   "outputs": [
    {
     "name": "stdout",
     "output_type": "stream",
     "text": [
      "Actual VSense: 0.08V\n",
      "Inductance: 1.00uH, Min: 0.47uH\n",
      "L/DCR: 0.0004, R1C1_5: 0.0004, R2C2: 0.0004\n"
     ]
    },
    {
     "ename": "AssertionError",
     "evalue": "SNSA+, SNS- ripple voltage 0.19404203223831867 > 10mV recommended",
     "output_type": "error",
     "traceback": [
      "\u001b[0;31m---------------------------------------------------------------------------\u001b[0m",
      "\u001b[0;31mAssertionError\u001b[0m                            Traceback (most recent call last)",
      "Cell \u001b[0;32mIn[57], line 34\u001b[0m\n\u001b[1;32m     32\u001b[0m \u001b[38;5;66;03m# Ensure the current sense input ripple voltage is less than 2mV\u001b[39;00m\n\u001b[1;32m     33\u001b[0m dVsense \u001b[38;5;241m=\u001b[39m (VLow \u001b[38;5;241m/\u001b[39m VHigh) \u001b[38;5;241m*\u001b[39m ((VHigh \u001b[38;5;241m-\u001b[39m VLow) \u001b[38;5;241m/\u001b[39m (R1 \u001b[38;5;241m*\u001b[39m C1 \u001b[38;5;241m*\u001b[39m Fosc))\n\u001b[0;32m---> 34\u001b[0m \u001b[38;5;28;01massert\u001b[39;00m dVsense \u001b[38;5;241m<\u001b[39m \u001b[38;5;241m10e-3\u001b[39m, \u001b[38;5;124mf\u001b[39m\u001b[38;5;124m\"\u001b[39m\u001b[38;5;124mSNSA+, SNS- ripple voltage \u001b[39m\u001b[38;5;132;01m{\u001b[39;00mdVsense\u001b[38;5;132;01m}\u001b[39;00m\u001b[38;5;124m > 10mV recommended\u001b[39m\u001b[38;5;124m\"\u001b[39m\n\u001b[1;32m     36\u001b[0m \u001b[38;5;66;03m# Peak Current Rating\u001b[39;00m\n\u001b[1;32m     37\u001b[0m L_IRated \u001b[38;5;241m=\u001b[39m op_Iout_phase \u001b[38;5;241m+\u001b[39m dIL \u001b[38;5;241m/\u001b[39m \u001b[38;5;241m2.0\u001b[39m\n",
      "\u001b[0;31mAssertionError\u001b[0m: SNSA+, SNS- ripple voltage 0.19404203223831867 > 10mV recommended"
     ]
    }
   ],
   "source": [
    "# *****************************************************************************\n",
    "# DCR and Inductor Selection (Figure 3) *** PER PHASE ***\n",
    "# *****************************************************************************\n",
    "R1 = 1e3\n",
    "C1 = 0.080e-6\n",
    "R2 = 4e3\n",
    "C2 = 0.1e-6\n",
    "L = 1.0e-6\n",
    "DCR = 2.5e-3\n",
    "\n",
    "# Ensure VSenseMax isn't exceeded\n",
    "act_Vsense = DCR * (op_Iout_phase + (dIL / 2.0))\n",
    "assert act_Vsense < VSense_Max, f\"The actual voltage sense {act_Vsense} > maximum allowed voltage sense {VSense_Max}\"\n",
    "print(f\"Actual VSense: {act_Vsense:.2f}V\")\n",
    "\n",
    "# Compute approximate equality of the output inductor characteristics and the two filter stages\n",
    "tolerance = 1e-5\n",
    "L_by_DCR = round(L / DCR, 6)\n",
    "R1C1_5 = round(R1 * C1 * 5, 6)\n",
    "R2C2 = round(R2 * C2, 6)\n",
    "\n",
    "# Compute the minimum inductor value to achieve desired ripple current. << current == lower core loss\n",
    "L_min = ((VHigh - VLow)/(Fosc * dIL)) * (VLow / VHigh)\n",
    "print(f\"Inductance: {L * 1e6:.2f}uH, Min: {L_min * 1e6:.2f}uH\")\n",
    "assert L >= L_min, f\"Inductor value {L} < minimum inductor value {L_min}\"\n",
    "\n",
    "# Validate relationship between the inductor and the two filter stages\n",
    "print(f\"L/DCR: {L_by_DCR}, R1C1_5: {R1C1_5}, R2C2: {R2C2}\")\n",
    "assert math.isclose(L_by_DCR, R1C1_5, abs_tol=tolerance), f\"L/DCR {L_by_DCR} != R1C1_5 {R1C1_5}\"\n",
    "assert math.isclose(L_by_DCR, R2C2, abs_tol=tolerance), f\"L/DCR {L_by_DCR} != R2C2 {R2C2}\"\n",
    "\n",
    "# Ensure the current sense input ripple voltage is less than 2mV\n",
    "dVsense = (VLow / VHigh) * ((VHigh - VLow) / (R1 * C1 * Fosc))\n",
    "assert dVsense < 10e-3, f\"SNSA+, SNS- ripple voltage {dVsense} > 10mV recommended\"\n",
    "\n",
    "# Peak Current Rating\n",
    "L_IRated = op_Iout_phase + dIL / 2.0\n",
    "print(f\"Inductor Avg Current: {op_Iout_phase:.2f}A\")\n",
    "print(f\"Inductor Peak Current: {L_IRated:.2f}A\")\n",
    "\n",
    "# Compute copper loss\n",
    "L_i2r_loss = op_Iout_phase ** 2 * DCR\n",
    "\n",
    "# Summarize this block\n",
    "print(f\"Exp SNS +/- Ripple {dVsense * 1e3:.2f}mV\")\n",
    "print(f\"Inductor Avg I2R Loss: {L_i2r_loss:.2f}W\")"
   ]
  },
  {
   "cell_type": "code",
   "execution_count": null,
   "metadata": {},
   "outputs": [
    {
     "name": "stdout",
     "output_type": "stream",
     "text": [
      "Dissipation Top: 0.35W\n",
      "Dissipation Bottom: 0.67W\n"
     ]
    }
   ],
   "source": [
    "# *****************************************************************************\n",
    "# Mosfet Design *** PER PHASE ***\n",
    "# *****************************************************************************\n",
    "# Pg. 24\n",
    "# Compute Ptop and PBot\n",
    "# Take care for miller capacitance\n",
    "\n",
    "# Mosfet Characteristics: MCAC80N10Y\n",
    "mos_temp_delta = 0.005  # per degree celcius (estimate, unitless)\n",
    "mos_Rds_on = 3.3e-3  # Resistance when fully on (Ohm)\n",
    "mos_Crss = 15e-12  # Reverse transfer capacitance aka miller capacitance (Farad)\n",
    "mos_Iavg = 80.0 # Continuous current (Amps)\n",
    "mos_Vth = 2.0 # Transition threshold voltage (Volts)\n",
    "drv_Rdr = 1.5 # Resistance of top switch driver (Ohm), from LTC7060 R_UP(TG)?\n",
    "\n",
    "# Junction Temp Adjustment\n",
    "est_junction_temp = 75.0  # Celcius\n",
    "ambient_temp = 25.0  # Celcius\n",
    "temp_factor = mos_temp_delta * (est_junction_temp - ambient_temp)\n",
    "\n",
    "# Top Switch Mosfet Dissipation\n",
    "mos_top_1 = (VLow / VHigh) * (op_Iout_phase ** 2.0) * (1.0 + temp_factor) * mos_Rds_on\n",
    "mos_top_2 = (VHigh ** 2.0) * (op_Iout_phase / 2.0) * drv_Rdr * mos_Crss\n",
    "mos_top_3 = ((1.0 / (DRVcc - mos_Vth)) + (1.0 / mos_Vth)) * Fosc\n",
    "mos_top_pwr_dissipation = mos_top_1 + mos_top_2 * mos_top_3\n",
    "\n",
    "# Bottom Switch Mosfet Dissipation\n",
    "mos_bot_1 = (VHigh - VLow) / VHigh\n",
    "mos_bot_2 = op_Iout_phase ** 2.0\n",
    "mos_bot_3 = (1.0 + temp_factor) * mos_Rds_on\n",
    "mos_bot_pwr_dissipation = mos_bot_1 * mos_bot_2 * mos_bot_3\n",
    "\n",
    "print(f\"Dissipation Top: {mos_top_pwr_dissipation:.2f}W\")\n",
    "print(f\"Dissipation Bottom: {mos_bot_pwr_dissipation:.2f}W\")"
   ]
  },
  {
   "cell_type": "code",
   "execution_count": null,
   "metadata": {},
   "outputs": [
    {
     "name": "stdout",
     "output_type": "stream",
     "text": [
      "Input RMS Current: 30.48A\n"
     ]
    }
   ],
   "source": [
    "# *****************************************************************************\n",
    "# High Side Capacitor Design\n",
    "# *****************************************************************************\n",
    "# Pg. 24\n",
    "# Cin sized by RMS current of a single channel (maybe from dIL?)\n",
    "Cin_max_Irms = (op_Iout_max / VHigh) * math.sqrt(VLow * (VHigh - VLow))\n",
    "\n",
    "print(f\"Input RMS Current: {Cin_max_Irms:.2f}A\")"
   ]
  },
  {
   "cell_type": "code",
   "execution_count": null,
   "metadata": {},
   "outputs": [
    {
     "name": "stdout",
     "output_type": "stream",
     "text": [
      "Output voltage ripple:\t36.07mV, Min: 100.00mV\n",
      "Output capacitance:\t888.00uF, Min: 125.00uF\n"
     ]
    }
   ],
   "source": [
    "# *****************************************************************************\n",
    "# Low Side Capacitor Design\n",
    "#   I learned from various online sources that I can combine ceramic and\n",
    "#   electrolytic capacitors to achieve the desired ESR and capacitance. The\n",
    "#   ceramic capacitors provide low ESR and high frequency performance, while\n",
    "#   the electrolytic capacitors provide bulk capacitance. Despite lower ripple\n",
    "#   current ratings on the electrolytics, the ceramic capacitors will handle\n",
    "#   the bulk of this due to their lower impendance at higher frequencies.\n",
    "# *****************************************************************************\n",
    "# Pg. 25\n",
    "# The selection of Cout at Vout is driven by ESR.\n",
    "# - Constraint: Compute output voltage ripple\n",
    "# - Constraint: Cout > 1/(8f*Rsense)\n",
    "\n",
    "# Capacitor: CGA6P1X7R1N106M250AC\n",
    "# https://product.tdk.com/en/search/capacitor/ceramic/mlcc/info?part_no=CGA6P1X7R1N106M250AC\n",
    "CLow_ceramic_cap = 2e-6  # Output Capacitance (Farads) @48V DC bias\n",
    "CLow_ceramic_ESR = 3e-3  # Estimated worst case output ESR (ohm) @100kHz-1MHz\n",
    "CLow_ceramic_N = 4  # Number of capacitors in parallel\n",
    "_ceramic_eff_esr = CLow_ceramic_ESR / CLow_ceramic_N\n",
    "\n",
    "# Capacitor: 80ZLH220MEFCT810X23\n",
    "# https://www.digikey.com/en/products/detail/rubycon/80ZLH220MEFCT810X23/3568221\n",
    "CLow_electrolytic_cap = 220e-6  # Output Capacitance (Farads)\n",
    "CLow_electrolytic_ESR = 0.11  # Estimated output ESR (ohm)\n",
    "CLow_electrolytic_N = 4  # Number of capacitors in parallel\n",
    "_electrolytic_eff_esr = CLow_electrolytic_ESR / CLow_electrolytic_N\n",
    "\n",
    "# Compute effective capacitance and ESR from both ceramic and electrolytic capacitors\n",
    "CLow_eff_ESR = 1.0 / ( (1.0 / _ceramic_eff_esr) + (1.0 / _electrolytic_eff_esr) )\n",
    "CLow_eff = (CLow_ceramic_cap * CLow_ceramic_N) + (CLow_electrolytic_cap * CLow_electrolytic_N)\n",
    "\n",
    "# Validate steady state output ripple voltage isn't exceeded\n",
    "dVLow_act = dIL * (CLow_eff_ESR + (1.0 / (8.0 * Fosc * CLow_eff)))\n",
    "print(f\"Output voltage ripple:\\t{dVLow_act * 1e3:.2f}mV, Min: {dVLow_ref * 1e3:.2f}mV\")\n",
    "assert dVLow_act <= dVLow_ref\n",
    "\n",
    "# Validate minimum capacitance is met\n",
    "CLow_min_ref = 1.0 / (8.0 * Fosc * DCR)\n",
    "print(f\"Output capacitance:\\t{CLow_eff * 1e6:.2f}uF, Min: {CLow_min_ref * 1e6:.2f}uF\")\n",
    "assert CLow_eff > CLow_min_ref\n",
    "\n",
    "# TODO: Compute power dissipation in the capacitors"
   ]
  },
  {
   "cell_type": "code",
   "execution_count": 90,
   "metadata": {},
   "outputs": [
    {
     "name": "stdout",
     "output_type": "stream",
     "text": [
      "12v -- Range: 6.80V - 19.60V, Resolution: 0.1000V\n",
      "24v -- Range: 9.60V - 28.80V, Resolution: 0.1500V\n",
      "48v -- Range: 13.73V - 58.27V, Resolution: 0.3480V\n"
     ]
    }
   ],
   "source": [
    "# *****************************************************************************\n",
    "# VLow Programmable Range (pg. 17)\n",
    "# *****************************************************************************\n",
    "NominalVoltageRanges = {\n",
    "    # VLow: (RA, RB)\n",
    "    \"12v\": (10e3, 100e3),\n",
    "    \"24v\": (10e3, 150e3),\n",
    "    \"48v\": (12e3, 348e3),\n",
    "}\n",
    "\n",
    "IDAC_min = -64e-6\n",
    "IDAC_max = 64e-6\n",
    "IDAC_steps = 128\n",
    "\n",
    "for name, (RA, RB) in NominalVoltageRanges.items():\n",
    "    VLow_Nominal = 1.2 * (1.0 + (RB / RA))\n",
    "    VLow_programmable_min = 1.2 * (1.0 + (RB / RA)) - (IDAC_max * RB)\n",
    "    VLow_programmable_max = 1.2 * (1.0 + (RB / RA)) - (IDAC_min * RB)\n",
    "    VLow_resolution = (VLow_programmable_max - VLow_programmable_min) / IDAC_steps\n",
    "\n",
    "    print(f\"{name} -- Range: {VLow_programmable_min:.2f}V - {VLow_programmable_max:.2f}V, Resolution: {VLow_resolution:.4f}V\")\n"
   ]
  }
 ],
 "metadata": {
  "kernelspec": {
   "display_name": ".venv",
   "language": "python",
   "name": "python3"
  },
  "language_info": {
   "codemirror_mode": {
    "name": "ipython",
    "version": 3
   },
   "file_extension": ".py",
   "mimetype": "text/x-python",
   "name": "python",
   "nbconvert_exporter": "python",
   "pygments_lexer": "ipython3",
   "version": "3.12.3"
  }
 },
 "nbformat": 4,
 "nbformat_minor": 2
}
