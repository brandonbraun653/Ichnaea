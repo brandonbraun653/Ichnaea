{
 "cells": [
  {
   "cell_type": "code",
   "execution_count": 1,
   "metadata": {},
   "outputs": [],
   "source": [
    "# This document details the circuit design decisions made for the LTC7871 buck converter. The goal here is to provide an easy\n",
    "# way to evaluate how component values will affect the overall behavior and performance, without having to restrict myself to\n",
    "# an excel sheet or a SPICE simulation. This is a living document and will be updated as I learn more about the LTC7871 and\n",
    "# develop the hardware."
   ]
  },
  {
   "cell_type": "code",
   "execution_count": null,
   "metadata": {},
   "outputs": [],
   "source": []
  }
 ],
 "metadata": {
  "kernelspec": {
   "display_name": ".venv",
   "language": "python",
   "name": "python3"
  },
  "language_info": {
   "codemirror_mode": {
    "name": "ipython",
    "version": 3
   },
   "file_extension": ".py",
   "mimetype": "text/x-python",
   "name": "python",
   "nbconvert_exporter": "python",
   "pygments_lexer": "ipython3",
   "version": "3.11.6"
  }
 },
 "nbformat": 4,
 "nbformat_minor": 2
}
