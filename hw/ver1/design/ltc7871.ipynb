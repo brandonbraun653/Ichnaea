{
 "cells": [
  {
   "cell_type": "code",
   "execution_count": null,
   "metadata": {},
   "outputs": [
    {
     "ename": "",
     "evalue": "",
     "output_type": "error",
     "traceback": [
      "\u001b[1;31mThe kernel failed to start as 'TypeAliasType' could not be imported from '/usr/lib/python3/dist-packages/typing_extensions.py'.\n",
      "\u001b[1;31mClick <a href='https://aka.ms/kernelFailuresModuleImportErrFromFile'>here</a> for more info."
     ]
    }
   ],
   "source": [
    "# This document details the circuit design decisions made for the LTC7871 buck converter. The goal here is to provide an easy\n",
    "# way to evaluate how component values will affect the overall behavior and performance, without having to restrict myself to\n",
    "# an excel sheet or a SPICE simulation. This is a living document and will be updated as I learn more about the LTC7871 and\n",
    "# develop the hardware."
   ]
  },
  {
   "cell_type": "code",
   "execution_count": null,
   "metadata": {},
   "outputs": [
    {
     "ename": "",
     "evalue": "",
     "output_type": "error",
     "traceback": [
      "\u001b[1;31mThe kernel failed to start as 'TypeAliasType' could not be imported from '/usr/lib/python3/dist-packages/typing_extensions.py'.\n",
      "\u001b[1;31mClick <a href='https://aka.ms/kernelFailuresModuleImportErrFromFile'>here</a> for more info."
     ]
    }
   ],
   "source": [
    "# *****************************************************************************\n",
    "# System Design Constraints\n",
    "# *****************************************************************************\n",
    "Pwr_max = 1000.0 # Maximum power output of the converter in watts.\n",
    "Eff_min = 0.75 # Estimated minimum efficiency of the converter under typical conditions.\n",
    "Eff_max = 0.97 # Estimated maximum efficiency of the converter under typical conditions.\n",
    "Vout_min = 12.0 # Minimum output voltage. Not enough to charge, but could power an inverter?\n",
    "Vout_max = 56.0 # High enough to charge a 48V battery bank.\n",
    "Vin_min = 24.0 # Photovoltaic input voltage required to charge a 12v battery bank with some headroom.\n",
    "Vin_max = 90.0 # Photovoltaic input voltage max of the LTC7871 with some headroom.\n",
    "Iout_max = Pwr_max / Vout_min # Maximum output current in amps.\n",
    "Iout_min = Pwr_max / Vout_max # Minimum output current in amps."
   ]
  },
  {
   "cell_type": "code",
   "execution_count": null,
   "metadata": {},
   "outputs": [
    {
     "ename": "",
     "evalue": "",
     "output_type": "error",
     "traceback": [
      "\u001b[1;31mThe kernel failed to start as 'TypeAliasType' could not be imported from '/usr/lib/python3/dist-packages/typing_extensions.py'.\n",
      "\u001b[1;31mClick <a href='https://aka.ms/kernelFailuresModuleImportErrFromFile'>here</a> for more info."
     ]
    }
   ],
   "source": [
    "# *****************************************************************************\n",
    "# Operating Conditions to Evaluate\n",
    "# *****************************************************************************\n",
    "# Configurable Fields\n",
    "VLow = 12.0  # Low side output voltage\n",
    "VHigh = 56.0  # High side input voltage\n",
    "dIL = 0.1  # Desired inductor ripple current in Amps\n",
    "Fosc = 500e3  # Switching frequency in Hz\n",
    "\n",
    "# Computed Operating Points\n",
    "op_Iout_max = Pwr_max / VLow  # Maximum output current in Amps"
   ]
  },
  {
   "cell_type": "code",
   "execution_count": null,
   "metadata": {},
   "outputs": [
    {
     "ename": "",
     "evalue": "",
     "output_type": "error",
     "traceback": [
      "\u001b[1;31mThe kernel failed to start as 'TypeAliasType' could not be imported from '/usr/lib/python3/dist-packages/typing_extensions.py'.\n",
      "\u001b[1;31mClick <a href='https://aka.ms/kernelFailuresModuleImportErrFromFile'>here</a> for more info."
     ]
    }
   ],
   "source": [
    "# *****************************************************************************\n",
    "# Current Limit Programming\n",
    "# *****************************************************************************\n",
    "from enum import Enum\n",
    "\n",
    "class ILim(Enum):\n",
    "    \"\"\" Enumeration of the current limit programming options for the LTC7871 Table 5 \"\"\"\n",
    "    ILIM_0 = 0\n",
    "    ILIM_1_4 = 1\n",
    "    ILIM_FLOAT = 2\n",
    "    ILIM_3_4 = 3\n",
    "    ILIM_FULL = 4\n",
    "\n",
    "# Maximum voltage sense values for a DCR type current sense resistor.\n",
    "# Values are in volts.\n",
    "VSense_Max_DCR = {\n",
    "    ILim.ILIM_0: 0.1,\n",
    "    ILim.ILIM_1_4: 0.2,\n",
    "    ILim.ILIM_FLOAT: 0.3,\n",
    "    ILim.ILIM_3_4: 0.4,\n",
    "    ILim.ILIM_FULL: 0.5\n",
    "}\n",
    "\n",
    "# Selection for the current limit programming.\n",
    "ILim_Select = ILim.ILIM_FULL\n",
    "VSense_Max = VSense_Max_DCR[ILim_Select]"
   ]
  },
  {
   "cell_type": "code",
   "execution_count": null,
   "metadata": {},
   "outputs": [
    {
     "ename": "",
     "evalue": "",
     "output_type": "error",
     "traceback": [
      "\u001b[1;31mThe kernel failed to start as 'TypeAliasType' could not be imported from '/usr/lib/python3/dist-packages/typing_extensions.py'.\n",
      "\u001b[1;31mClick <a href='https://aka.ms/kernelFailuresModuleImportErrFromFile'>here</a> for more info."
     ]
    }
   ],
   "source": [
    "# *****************************************************************************\n",
    "# DCR and Inductor Selection (Figure 3)\n",
    "# *****************************************************************************\n",
    "R1 = 10e3\n",
    "C1 = 0.1e-6\n",
    "R2 = 49.9e3\n",
    "C2 = 0.1e-6\n",
    "L = 10e-6\n",
    "DCR = 2e-3\n",
    "\n",
    "# Constraints\n",
    "act_Vsense = DCR * (op_Iout_max + (dIL / 2.0))\n",
    "assert act_Vsense < VSense_Max, \"The actual voltage sense is greater than the maximum allowed voltage sense.\"\n",
    "\n",
    "\n",
    "# Ensure the ripple voltage is less than 2mV\n",
    "dVsense = (VLow / VHigh) * ((VHigh - VLow) / (R1 * C1 * Fosc))"
   ]
  }
 ],
 "metadata": {
  "kernelspec": {
   "display_name": ".venv",
   "language": "python",
   "name": "python3"
  },
  "language_info": {
   "codemirror_mode": {
    "name": "ipython",
    "version": 3
   },
   "file_extension": ".py",
   "mimetype": "text/x-python",
   "name": "python",
   "nbconvert_exporter": "python",
   "pygments_lexer": "ipython3",
   "version": "3.11.9"
  }
 },
 "nbformat": 4,
 "nbformat_minor": 2
}
